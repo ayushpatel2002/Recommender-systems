{
 "cells": [
  {
   "cell_type": "markdown",
   "id": "07dc24da",
   "metadata": {},
   "source": [
    "# Assignment 3 Primer\n",
    "\n",
    "* Assignment 3 will be based on a sample of movie rating predictions from the Netflix Prize dataset.\n",
    "* It includes two pregenerated splits of 10k users for about 3k movies. So there is already a train and validation split that you will use for your experiments.\n",
    "* It can be a little tricky to use predefined splits in surpise, so I will show you how to do it here.\n",
    "* There are many articles available that talk about the million dollar prize and what it meant for the company. A few are:\n",
    "* https://towardsdatascience.com/deep-dive-into-netflixs-recommender-system-341806ae3b48\n",
    "* https://www.thrillist.com/entertainment/nation/the-netflix-prize\n",
    "* https://analyticsindiamag.com/how-useful-was-the-netflix-prize-really/"
   ]
  },
  {
   "cell_type": "code",
   "execution_count": 1,
   "id": "ec2db686",
   "metadata": {
    "ExecuteTime": {
     "end_time": "2022-10-03T06:31:48.680920Z",
     "start_time": "2022-10-03T06:31:48.450645Z"
    }
   },
   "outputs": [],
   "source": [
    "import numpy as np\n",
    "import pyarrow.feather as feather\n",
    "import pandas as pd\n",
    "\n",
    "# If you are on an Intel-based machine, you can also enable scikit-learn intel optimizations.\n",
    "# This does not work on an M1 / M2 Macbook, but does on older Macbooks with an Intel.\n",
    "# Requires ``pip install scikit-learn-intelex''\n",
    "#\n",
    "# from sklearnex import patch_sklearn\n",
    "# patch_sklearn()"
   ]
  },
  {
   "cell_type": "code",
   "execution_count": 2,
   "id": "27d89cf5",
   "metadata": {
    "ExecuteTime": {
     "end_time": "2022-10-03T06:31:48.744201Z",
     "start_time": "2022-10-03T06:31:48.700353Z"
    }
   },
   "outputs": [],
   "source": [
    "import pyarrow.feather as feather\n",
    "import pandas as pd\n",
    "from surprise import Dataset, Reader, BaselineOnly, accuracy\n",
    "from surprise.model_selection import train_test_split, GridSearchCV, RandomizedSearchCV\n",
    "from joblib import parallel_backend\n",
    "from surprise import SVD\n",
    "from surprise import NormalPredictor\n",
    "from surprise import KNNBaseline\n",
    "from surprise import CoClustering\n",
    "from surprise import AlgoBase\n",
    "from surprise import SlopeOne\n",
    "from surprise import KNNBasic\n",
    "from sklearn.metrics import average_precision_score\n",
    "from sklearn.metrics import precision_score\n",
    "from collections import defaultdict\n",
    "from math import sqrt\n",
    "import matplotlib.pyplot as plt\n",
    "from sklearn.metrics import mean_squared_error\n",
    "from sklearn.model_selection import LeaveOneOut\n",
    "from tqdm import tqdm\n",
    "from pandas.plotting import table\n",
    "import seaborn as sns\n",
    "import os, psutil"
   ]
  },
  {
   "cell_type": "code",
   "execution_count": 3,
   "id": "6e9abf62",
   "metadata": {
    "ExecuteTime": {
     "end_time": "2022-10-03T06:31:48.772052Z",
     "start_time": "2022-10-03T06:31:48.747258Z"
    }
   },
   "outputs": [
    {
     "data": {
      "text/html": [
       "<div>\n",
       "<style scoped>\n",
       "    .dataframe tbody tr th:only-of-type {\n",
       "        vertical-align: middle;\n",
       "    }\n",
       "\n",
       "    .dataframe tbody tr th {\n",
       "        vertical-align: top;\n",
       "    }\n",
       "\n",
       "    .dataframe thead th {\n",
       "        text-align: right;\n",
       "    }\n",
       "</style>\n",
       "<table border=\"1\" class=\"dataframe\">\n",
       "  <thead>\n",
       "    <tr style=\"text-align: right;\">\n",
       "      <th></th>\n",
       "      <th>userID</th>\n",
       "      <th>movieID</th>\n",
       "      <th>rating</th>\n",
       "    </tr>\n",
       "  </thead>\n",
       "  <tbody>\n",
       "    <tr>\n",
       "      <th>0</th>\n",
       "      <td>1000596</td>\n",
       "      <td>10036</td>\n",
       "      <td>4.0</td>\n",
       "    </tr>\n",
       "    <tr>\n",
       "      <th>1</th>\n",
       "      <td>1000596</td>\n",
       "      <td>10100</td>\n",
       "      <td>2.0</td>\n",
       "    </tr>\n",
       "    <tr>\n",
       "      <th>2</th>\n",
       "      <td>1000596</td>\n",
       "      <td>10209</td>\n",
       "      <td>3.0</td>\n",
       "    </tr>\n",
       "    <tr>\n",
       "      <th>3</th>\n",
       "      <td>1000596</td>\n",
       "      <td>10212</td>\n",
       "      <td>3.0</td>\n",
       "    </tr>\n",
       "    <tr>\n",
       "      <th>4</th>\n",
       "      <td>1000596</td>\n",
       "      <td>10225</td>\n",
       "      <td>3.0</td>\n",
       "    </tr>\n",
       "    <tr>\n",
       "      <th>...</th>\n",
       "      <td>...</td>\n",
       "      <td>...</td>\n",
       "      <td>...</td>\n",
       "    </tr>\n",
       "    <tr>\n",
       "      <th>1287012</th>\n",
       "      <td>99993</td>\n",
       "      <td>9683</td>\n",
       "      <td>4.0</td>\n",
       "    </tr>\n",
       "    <tr>\n",
       "      <th>1287013</th>\n",
       "      <td>99993</td>\n",
       "      <td>9685</td>\n",
       "      <td>4.0</td>\n",
       "    </tr>\n",
       "    <tr>\n",
       "      <th>1287014</th>\n",
       "      <td>99993</td>\n",
       "      <td>9800</td>\n",
       "      <td>2.0</td>\n",
       "    </tr>\n",
       "    <tr>\n",
       "      <th>1287015</th>\n",
       "      <td>99993</td>\n",
       "      <td>9939</td>\n",
       "      <td>5.0</td>\n",
       "    </tr>\n",
       "    <tr>\n",
       "      <th>1287016</th>\n",
       "      <td>99993</td>\n",
       "      <td>994</td>\n",
       "      <td>2.0</td>\n",
       "    </tr>\n",
       "  </tbody>\n",
       "</table>\n",
       "<p>1287017 rows × 3 columns</p>\n",
       "</div>"
      ],
      "text/plain": [
       "          userID  movieID  rating\n",
       "0        1000596    10036     4.0\n",
       "1        1000596    10100     2.0\n",
       "2        1000596    10209     3.0\n",
       "3        1000596    10212     3.0\n",
       "4        1000596    10225     3.0\n",
       "...          ...      ...     ...\n",
       "1287012    99993     9683     4.0\n",
       "1287013    99993     9685     4.0\n",
       "1287014    99993     9800     2.0\n",
       "1287015    99993     9939     5.0\n",
       "1287016    99993      994     2.0\n",
       "\n",
       "[1287017 rows x 3 columns]"
      ]
     },
     "execution_count": 3,
     "metadata": {},
     "output_type": "execute_result"
    }
   ],
   "source": [
    "# Reading feather files to dataframe\n",
    "df_train = feather.read_feather('netflix-5k.train.feather')\n",
    "df_val = feather.read_feather('netflix-5k.validation.feather')\n",
    "df_titles = feather.read_feather('netflix-5k.movie_titles.feather')\n",
    "df_train #321490"
   ]
  },
  {
   "cell_type": "code",
   "execution_count": 4,
   "id": "96250202",
   "metadata": {},
   "outputs": [],
   "source": [
    "# creating training set and validation set seperately. \n",
    "reader = Reader(rating_scale=(0, 5))\n",
    "data = Dataset.load_from_df(df_train[['userID','movieID',\n",
    "                                      'rating']],reader)\n",
    "datav = Dataset.load_from_df(df_val[['userID','movieID',\n",
    "                                       'rating']],reader)\n",
    "trainset = data.build_full_trainset()\n",
    "NA,valset = train_test_split(datav, test_size=1.0)"
   ]
  },
  {
   "cell_type": "code",
   "execution_count": 5,
   "id": "09796492",
   "metadata": {},
   "outputs": [],
   "source": [
    "# generating anti test set which would be useful while calculating evaluation metrics especially hit rate\n",
    "def gen_anti_testset_user(valset, target_user):\n",
    "  anti_testset_user = []\n",
    "  fill_value = trainset.global_mean\n",
    "  user_item_ratings = trainset.ur[target_user]\n",
    "  user_items = [item for (item,_) in (user_item_ratings)]\n",
    "  ratings = trainset.all_ratings()\n",
    "  for iid in trainset.all_items():\n",
    "    if iid not in user_items:\n",
    "      raw_uid = trainset.to_raw_uid(target_user) \n",
    "      raw_iid = trainset.to_raw_iid(iid) \n",
    "      anti_testset_user.append((raw_uid,raw_iid,fill_value))\n",
    "  return anti_testset_user\n",
    "\n",
    "# running algorithms on anti test set taking 'algo' s parameter in which we would be feeding fitted algorithms with tuning\n",
    "\n",
    "def algo_on_all_antisets(algo, trainset, valset, all_antisets, progress = False, k = 10):\n",
    "  scores_dict = {}\n",
    "  if progress == True:\n",
    "    print ('Scoring all user antisets and testset.')\n",
    "    algo.fit(trainset)\n",
    "    predictions = algo.test(valset)\n",
    "    rmse = accuracy.rmse(predictions,verbose=False)\n",
    "    mae = accuracy.mae(predictions,verbose=False)\n",
    "    fcp = accuracy.fcp(predictions,verbose=False)\n",
    "    mse = accuracy.mse(predictions,verbose=False)\n",
    "    topNall = {}\n",
    "#     we would be appending all the scores of the algorithm in an dictionary\n",
    "    scores_dict['RMSE'] = round(rmse,3)\n",
    "    scores_dict['MAE'] = round(mae, 3)\n",
    "    for u,v in tqdm(all_antisets.items()):\n",
    "      predictions = algo.test(v)\n",
    "      pred = pd.DataFrame(predictions)\n",
    "      p = pred.rename(columns={'uid':'userID','iid':'movieID'})\n",
    "      pred = p.nlargest(k,['est'],keep='all')\n",
    "      pred.sort_values('movieID',ascending=True,inplace=True,kind='stable')\n",
    "      pred.sort_values('est',ascending=False,inplace=True,kind='stable')\n",
    "      pred['pred_rank'] = pred['est'].rank(ascending=False,\n",
    "                                           method='first',na_option='bottom')\n",
    "      pred['pred_rank'] = pred['pred_rank'].astype(int)\n",
    "      pred.reset_index(inplace=True) \n",
    "      pred.drop('index',axis=1,inplace=True)\n",
    "      pred['estint'] = round(pred['est'])\n",
    "      pred['estint'] = round(pred['estint'].astype(float),1)\n",
    "      topNall[u] = pred\n",
    "#      returning scores and scores stored dictionary\n",
    "    return topNall,rmse,mae,fcp,mse,scores_dict\n",
    "  else:\n",
    "    print ('Scoring all user antisets and testset.')\n",
    "    algo.fit(trainset)\n",
    "    predictions = algo.test(valset)\n",
    "    rmse = accuracy.rmse(predictions,verbose=False)\n",
    "    mae = accuracy.mae(predictions,verbose=False)\n",
    "    fce = accuracy.fce(predictions,verbose=False)\n",
    "    mse = accuracy.mse(predictions,verbose=False)\n",
    "    topNall = {}\n",
    "    for u,v in tqdm(all_antisets.items()):\n",
    "      predictions = algo.test(v)\n",
    "      pred = pd.DataFrame(predictions)\n",
    "      p = pred.rename(columns={'iid':'userID','uid':'movieID'})\n",
    "      pred = p.nlargest(k,['est'],keep='all')\n",
    "      pred.sort_values('movieID',ascending=True,inplace=True,kind='stable')\n",
    "      pred.sort_values('est',ascending=False,inplace=True,kind='stable')\n",
    "      pred['pred_rank'] = pred['est'].rank(ascending=False,\n",
    "                                           method='first',na_option='bottom')\n",
    "      pred['pred_rank'] = pred['pred_rank'].astype(int)\n",
    "      pred.reset_index(inplace=True) \n",
    "      pred.drop('index',axis=1,inplace=True)\n",
    "      pred['estint'] = round(pred['est'])\n",
    "      pred['estint'] = round(pred['estint'].astype(float),1)\n",
    "      topNall[u] = pred\n",
    "    return topNall,rmse,mae,fcp,mse,scores_dict\n",
    "\n"
   ]
  },
  {
   "cell_type": "code",
   "execution_count": 6,
   "id": "e01d2253",
   "metadata": {},
   "outputs": [],
   "source": [
    "def gen_r2i_map(trainset):\n",
    "  inner2raw_uid = {}\n",
    "  raw2inner_uid = {}\n",
    "  inner2raw_iid = {}\n",
    "  raw2inner_iid = {}\n",
    "  for uid in tqdm(trainset.all_users()):\n",
    "    rawid = trainset.to_raw_uid(uid)\n",
    "    inner2raw_uid[uid] = rawid\n",
    "    raw2inner_uid[rawid] = uid\n",
    "  for iid in tqdm(trainset.all_items()):\n",
    "    rawid = trainset.to_raw_iid(iid)\n",
    "    inner2raw_iid[iid] = rawid\n",
    "    raw2inner_iid[rawid] = iid\n",
    "  return inner2raw_uid, raw2inner_uid,inner2raw_iid,raw2inner_iid\n",
    "#  generating reference sets. \n",
    "def gen_reference_sets(tdf, i2r_uid, r2i_iid, progress=False,k=10):\n",
    "  ref = {}\n",
    "  for u in i2r_uid.keys():\n",
    "    udf = tdf[tdf['userID'] == i2r_uid[u]]\n",
    "    ndf = udf.nlargest(k,['rating'],keep='all')\n",
    "    ndf.sort_values('movieID',ascending=True,inplace=True,kind='stable')\n",
    "    ndf.sort_values('rating',ascending=False,inplace=True,kind='stable')\n",
    "    ndf['ref_rank'] = ndf['rating'].rank(ascending=False,method='first',\n",
    "                                         na_option='bottom')\n",
    "    ndf['ref_rank'] = ndf['ref_rank'].astype(int)\n",
    "    ndf.reset_index(inplace=True) \n",
    "    ndf.drop('index',axis=1,inplace=True) \n",
    "    ref[u] = ndf \n",
    "  return ref\n",
    "\n",
    "def gen_antisets(trainset,progress=False):\n",
    "  all_antisets = {}\n",
    "  if progress == True:\n",
    "    print ('Generating antiset for each user.')\n",
    "    for uid in tqdm(trainset.all_users()):\n",
    "      antitsu = gen_anti_testset_user(trainset, uid)\n",
    "      all_antisets[uid] = antitsu\n",
    "  else:\n",
    "    for uid in trainset.all_users():\n",
    "      antitsu = gen_anti_testset_user(trainset, uid)\n",
    "      all_antisets[uid] = antitsu\n",
    "  return all_antisets\n"
   ]
  },
  {
   "cell_type": "code",
   "execution_count": 7,
   "id": "f46ef4d3",
   "metadata": {},
   "outputs": [
    {
     "name": "stderr",
     "output_type": "stream",
     "text": [
      "100%|██████████| 5000/5000 [00:00<00:00, 349234.30it/s]\n",
      "100%|██████████| 4334/4334 [00:00<00:00, 1079140.01it/s]\n"
     ]
    }
   ],
   "source": [
    "i2r_uid, r2i_uid, i2r_iid, r2i_iid = gen_r2i_map(trainset)\n"
   ]
  },
  {
   "cell_type": "code",
   "execution_count": 8,
   "id": "e2b7361c",
   "metadata": {},
   "outputs": [],
   "source": [
    "ref = gen_reference_sets(df_val, i2r_uid,r2i_iid, progress=False, k=10)\n",
    "all_antisets = gen_antisets(trainset)"
   ]
  },
  {
   "cell_type": "markdown",
   "id": "a1289364",
   "metadata": {},
   "source": [
    "# Data Analysis"
   ]
  },
  {
   "cell_type": "code",
   "execution_count": 9,
   "id": "1f87d8d4",
   "metadata": {
    "scrolled": true
   },
   "outputs": [
    {
     "data": {
      "text/html": [
       "<div>\n",
       "<style scoped>\n",
       "    .dataframe tbody tr th:only-of-type {\n",
       "        vertical-align: middle;\n",
       "    }\n",
       "\n",
       "    .dataframe tbody tr th {\n",
       "        vertical-align: top;\n",
       "    }\n",
       "\n",
       "    .dataframe thead th {\n",
       "        text-align: right;\n",
       "    }\n",
       "</style>\n",
       "<table border=\"1\" class=\"dataframe\">\n",
       "  <thead>\n",
       "    <tr style=\"text-align: right;\">\n",
       "      <th></th>\n",
       "      <th>rating</th>\n",
       "    </tr>\n",
       "  </thead>\n",
       "  <tbody>\n",
       "    <tr>\n",
       "      <th>count</th>\n",
       "      <td>1287017.000</td>\n",
       "    </tr>\n",
       "    <tr>\n",
       "      <th>mean</th>\n",
       "      <td>3.610</td>\n",
       "    </tr>\n",
       "    <tr>\n",
       "      <th>std</th>\n",
       "      <td>1.045</td>\n",
       "    </tr>\n",
       "    <tr>\n",
       "      <th>min</th>\n",
       "      <td>1.000</td>\n",
       "    </tr>\n",
       "    <tr>\n",
       "      <th>25%</th>\n",
       "      <td>3.000</td>\n",
       "    </tr>\n",
       "    <tr>\n",
       "      <th>50%</th>\n",
       "      <td>4.000</td>\n",
       "    </tr>\n",
       "    <tr>\n",
       "      <th>75%</th>\n",
       "      <td>4.000</td>\n",
       "    </tr>\n",
       "    <tr>\n",
       "      <th>max</th>\n",
       "      <td>5.000</td>\n",
       "    </tr>\n",
       "  </tbody>\n",
       "</table>\n",
       "</div>"
      ],
      "text/plain": [
       "           rating\n",
       "count 1287017.000\n",
       "mean        3.610\n",
       "std         1.045\n",
       "min         1.000\n",
       "25%         3.000\n",
       "50%         4.000\n",
       "75%         4.000\n",
       "max         5.000"
      ]
     },
     "execution_count": 9,
     "metadata": {},
     "output_type": "execute_result"
    }
   ],
   "source": [
    "# taking some stats to better select algorithms and converting to a df. \n",
    "z = (df_train.describe()['rating'].T).to_frame()\n",
    "pd.set_option('display.float_format', lambda x: '%.3f' % x)\n",
    "z"
   ]
  },
  {
   "cell_type": "code",
   "execution_count": 10,
   "id": "054b9d30",
   "metadata": {},
   "outputs": [
    {
     "data": {
      "image/png": "[encoded data removed]",
      "text/plain": [
       "<Figure size 500x500 with 1 Axes>"
      ]
     },
     "metadata": {},
     "output_type": "display_data"
    }
   ],
   "source": [
    "# making graph for the analyzing count of users for each rating \n",
    "with sns.axes_style('white'):\n",
    "    g = sns. catplot (data=df_train, x='rating', kind='count')\n",
    "    g.set_ylabels(\"Total number of ratings\")\n",
    "    g.fig.suptitle(\"Ratings distribution (Graph 1)\")"
   ]
  },
  {
   "cell_type": "code",
   "execution_count": 11,
   "id": "5f5ae6b9",
   "metadata": {
    "ExecuteTime": {
     "end_time": "2022-10-03T06:31:48.781070Z",
     "start_time": "2022-10-03T06:31:48.773145Z"
    }
   },
   "outputs": [
    {
     "data": {
      "text/html": [
       "<div>\n",
       "<style scoped>\n",
       "    .dataframe tbody tr th:only-of-type {\n",
       "        vertical-align: middle;\n",
       "    }\n",
       "\n",
       "    .dataframe tbody tr th {\n",
       "        vertical-align: top;\n",
       "    }\n",
       "\n",
       "    .dataframe thead th {\n",
       "        text-align: right;\n",
       "    }\n",
       "</style>\n",
       "<table border=\"1\" class=\"dataframe\">\n",
       "  <thead>\n",
       "    <tr style=\"text-align: right;\">\n",
       "      <th></th>\n",
       "      <th>movieID</th>\n",
       "      <th>imdb_id</th>\n",
       "      <th>imdb_date</th>\n",
       "      <th>date</th>\n",
       "      <th>title</th>\n",
       "      <th>genre</th>\n",
       "    </tr>\n",
       "  </thead>\n",
       "  <tbody>\n",
       "    <tr>\n",
       "      <th>0</th>\n",
       "      <td>3</td>\n",
       "      <td>1860</td>\n",
       "      <td>1997</td>\n",
       "      <td>1997</td>\n",
       "      <td>Character</td>\n",
       "      <td>Drama</td>\n",
       "    </tr>\n",
       "    <tr>\n",
       "      <th>1</th>\n",
       "      <td>8</td>\n",
       "      <td>27899</td>\n",
       "      <td>2004</td>\n",
       "      <td>2004</td>\n",
       "      <td>What the #$*! Do We Know!?</td>\n",
       "      <td>Comedy|Documentary|Drama</td>\n",
       "    </tr>\n",
       "    <tr>\n",
       "      <th>2</th>\n",
       "      <td>16</td>\n",
       "      <td>76</td>\n",
       "      <td>1995</td>\n",
       "      <td>1996</td>\n",
       "      <td>Screamers</td>\n",
       "      <td>Action|Sci-Fi|Thriller</td>\n",
       "    </tr>\n",
       "    <tr>\n",
       "      <th>3</th>\n",
       "      <td>18</td>\n",
       "      <td>249</td>\n",
       "      <td>1994</td>\n",
       "      <td>1994</td>\n",
       "      <td>Immortal Beloved</td>\n",
       "      <td>Drama|Romance</td>\n",
       "    </tr>\n",
       "    <tr>\n",
       "      <th>4</th>\n",
       "      <td>26</td>\n",
       "      <td>7368</td>\n",
       "      <td>2004</td>\n",
       "      <td>2004</td>\n",
       "      <td>Never Die Alone</td>\n",
       "      <td>Crime|Drama|Thriller</td>\n",
       "    </tr>\n",
       "    <tr>\n",
       "      <th>...</th>\n",
       "      <td>...</td>\n",
       "      <td>...</td>\n",
       "      <td>...</td>\n",
       "      <td>...</td>\n",
       "      <td>...</td>\n",
       "      <td>...</td>\n",
       "    </tr>\n",
       "    <tr>\n",
       "      <th>4329</th>\n",
       "      <td>17761</td>\n",
       "      <td>6285</td>\n",
       "      <td>2003</td>\n",
       "      <td>2003</td>\n",
       "      <td>Levity</td>\n",
       "      <td>Drama</td>\n",
       "    </tr>\n",
       "    <tr>\n",
       "      <th>4330</th>\n",
       "      <td>17762</td>\n",
       "      <td>1653</td>\n",
       "      <td>1997</td>\n",
       "      <td>1997</td>\n",
       "      <td>Gattaca</td>\n",
       "      <td>Drama|Sci-Fi|Thriller</td>\n",
       "    </tr>\n",
       "    <tr>\n",
       "      <th>4331</th>\n",
       "      <td>17763</td>\n",
       "      <td>3813</td>\n",
       "      <td>1978</td>\n",
       "      <td>1978</td>\n",
       "      <td>Interiors</td>\n",
       "      <td>Drama</td>\n",
       "    </tr>\n",
       "    <tr>\n",
       "      <th>4332</th>\n",
       "      <td>17764</td>\n",
       "      <td>2396</td>\n",
       "      <td>1998</td>\n",
       "      <td>1998</td>\n",
       "      <td>Shakespeare in Love</td>\n",
       "      <td>Comedy|Drama|Romance</td>\n",
       "    </tr>\n",
       "    <tr>\n",
       "      <th>4333</th>\n",
       "      <td>17769</td>\n",
       "      <td>7165</td>\n",
       "      <td>2003</td>\n",
       "      <td>2003</td>\n",
       "      <td>The Company</td>\n",
       "      <td>Drama|Musical</td>\n",
       "    </tr>\n",
       "  </tbody>\n",
       "</table>\n",
       "<p>4334 rows × 6 columns</p>\n",
       "</div>"
      ],
      "text/plain": [
       "      movieID  imdb_id  imdb_date  date                       title  \\\n",
       "0           3     1860       1997  1997                   Character   \n",
       "1           8    27899       2004  2004  What the #$*! Do We Know!?   \n",
       "2          16       76       1995  1996                   Screamers   \n",
       "3          18      249       1994  1994            Immortal Beloved   \n",
       "4          26     7368       2004  2004             Never Die Alone   \n",
       "...       ...      ...        ...   ...                         ...   \n",
       "4329    17761     6285       2003  2003                      Levity   \n",
       "4330    17762     1653       1997  1997                     Gattaca   \n",
       "4331    17763     3813       1978  1978                   Interiors   \n",
       "4332    17764     2396       1998  1998         Shakespeare in Love   \n",
       "4333    17769     7165       2003  2003                 The Company   \n",
       "\n",
       "                         genre  \n",
       "0                        Drama  \n",
       "1     Comedy|Documentary|Drama  \n",
       "2       Action|Sci-Fi|Thriller  \n",
       "3                Drama|Romance  \n",
       "4         Crime|Drama|Thriller  \n",
       "...                        ...  \n",
       "4329                     Drama  \n",
       "4330     Drama|Sci-Fi|Thriller  \n",
       "4331                     Drama  \n",
       "4332      Comedy|Drama|Romance  \n",
       "4333             Drama|Musical  \n",
       "\n",
       "[4334 rows x 6 columns]"
      ]
     },
     "metadata": {},
     "output_type": "display_data"
    }
   ],
   "source": [
    "display(df_titles)"
   ]
  },
  {
   "cell_type": "code",
   "execution_count": 12,
   "id": "401668c6",
   "metadata": {
    "ExecuteTime": {
     "end_time": "2022-10-03T06:31:48.788032Z",
     "start_time": "2022-10-03T06:31:48.782210Z"
    }
   },
   "outputs": [
    {
     "data": {
      "text/html": [
       "<div>\n",
       "<style scoped>\n",
       "    .dataframe tbody tr th:only-of-type {\n",
       "        vertical-align: middle;\n",
       "    }\n",
       "\n",
       "    .dataframe tbody tr th {\n",
       "        vertical-align: top;\n",
       "    }\n",
       "\n",
       "    .dataframe thead th {\n",
       "        text-align: right;\n",
       "    }\n",
       "</style>\n",
       "<table border=\"1\" class=\"dataframe\">\n",
       "  <thead>\n",
       "    <tr style=\"text-align: right;\">\n",
       "      <th></th>\n",
       "      <th>userID</th>\n",
       "      <th>movieID</th>\n",
       "      <th>rating</th>\n",
       "      <th>imdb_id</th>\n",
       "      <th>imdb_date</th>\n",
       "      <th>date</th>\n",
       "      <th>title</th>\n",
       "      <th>genre</th>\n",
       "    </tr>\n",
       "  </thead>\n",
       "  <tbody>\n",
       "    <tr>\n",
       "      <th>0</th>\n",
       "      <td>1000596</td>\n",
       "      <td>10036</td>\n",
       "      <td>4.000</td>\n",
       "      <td>172343</td>\n",
       "      <td>2004</td>\n",
       "      <td>2004</td>\n",
       "      <td>Chris Rock: Never Scared</td>\n",
       "      <td>Comedy</td>\n",
       "    </tr>\n",
       "    <tr>\n",
       "      <th>1</th>\n",
       "      <td>1047019</td>\n",
       "      <td>10036</td>\n",
       "      <td>5.000</td>\n",
       "      <td>172343</td>\n",
       "      <td>2004</td>\n",
       "      <td>2004</td>\n",
       "      <td>Chris Rock: Never Scared</td>\n",
       "      <td>Comedy</td>\n",
       "    </tr>\n",
       "    <tr>\n",
       "      <th>2</th>\n",
       "      <td>1066990</td>\n",
       "      <td>10036</td>\n",
       "      <td>4.000</td>\n",
       "      <td>172343</td>\n",
       "      <td>2004</td>\n",
       "      <td>2004</td>\n",
       "      <td>Chris Rock: Never Scared</td>\n",
       "      <td>Comedy</td>\n",
       "    </tr>\n",
       "    <tr>\n",
       "      <th>3</th>\n",
       "      <td>1080891</td>\n",
       "      <td>10036</td>\n",
       "      <td>4.000</td>\n",
       "      <td>172343</td>\n",
       "      <td>2004</td>\n",
       "      <td>2004</td>\n",
       "      <td>Chris Rock: Never Scared</td>\n",
       "      <td>Comedy</td>\n",
       "    </tr>\n",
       "    <tr>\n",
       "      <th>4</th>\n",
       "      <td>108717</td>\n",
       "      <td>10036</td>\n",
       "      <td>5.000</td>\n",
       "      <td>172343</td>\n",
       "      <td>2004</td>\n",
       "      <td>2004</td>\n",
       "      <td>Chris Rock: Never Scared</td>\n",
       "      <td>Comedy</td>\n",
       "    </tr>\n",
       "    <tr>\n",
       "      <th>...</th>\n",
       "      <td>...</td>\n",
       "      <td>...</td>\n",
       "      <td>...</td>\n",
       "      <td>...</td>\n",
       "      <td>...</td>\n",
       "      <td>...</td>\n",
       "      <td>...</td>\n",
       "      <td>...</td>\n",
       "    </tr>\n",
       "    <tr>\n",
       "      <th>1287012</th>\n",
       "      <td>611692</td>\n",
       "      <td>17379</td>\n",
       "      <td>3.000</td>\n",
       "      <td>4956</td>\n",
       "      <td>1980</td>\n",
       "      <td>1980</td>\n",
       "      <td>The Stunt Man</td>\n",
       "      <td>Action|Adventure|Comedy|Drama|Romance|Thriller</td>\n",
       "    </tr>\n",
       "    <tr>\n",
       "      <th>1287013</th>\n",
       "      <td>659882</td>\n",
       "      <td>17379</td>\n",
       "      <td>4.000</td>\n",
       "      <td>4956</td>\n",
       "      <td>1980</td>\n",
       "      <td>1980</td>\n",
       "      <td>The Stunt Man</td>\n",
       "      <td>Action|Adventure|Comedy|Drama|Romance|Thriller</td>\n",
       "    </tr>\n",
       "    <tr>\n",
       "      <th>1287014</th>\n",
       "      <td>668042</td>\n",
       "      <td>17379</td>\n",
       "      <td>3.000</td>\n",
       "      <td>4956</td>\n",
       "      <td>1980</td>\n",
       "      <td>1980</td>\n",
       "      <td>The Stunt Man</td>\n",
       "      <td>Action|Adventure|Comedy|Drama|Romance|Thriller</td>\n",
       "    </tr>\n",
       "    <tr>\n",
       "      <th>1287015</th>\n",
       "      <td>798142</td>\n",
       "      <td>17379</td>\n",
       "      <td>3.000</td>\n",
       "      <td>4956</td>\n",
       "      <td>1980</td>\n",
       "      <td>1980</td>\n",
       "      <td>The Stunt Man</td>\n",
       "      <td>Action|Adventure|Comedy|Drama|Romance|Thriller</td>\n",
       "    </tr>\n",
       "    <tr>\n",
       "      <th>1287016</th>\n",
       "      <td>923149</td>\n",
       "      <td>17379</td>\n",
       "      <td>4.000</td>\n",
       "      <td>4956</td>\n",
       "      <td>1980</td>\n",
       "      <td>1980</td>\n",
       "      <td>The Stunt Man</td>\n",
       "      <td>Action|Adventure|Comedy|Drama|Romance|Thriller</td>\n",
       "    </tr>\n",
       "  </tbody>\n",
       "</table>\n",
       "<p>1287017 rows × 8 columns</p>\n",
       "</div>"
      ],
      "text/plain": [
       "          userID  movieID  rating  imdb_id  imdb_date  date  \\\n",
       "0        1000596    10036   4.000   172343       2004  2004   \n",
       "1        1047019    10036   5.000   172343       2004  2004   \n",
       "2        1066990    10036   4.000   172343       2004  2004   \n",
       "3        1080891    10036   4.000   172343       2004  2004   \n",
       "4         108717    10036   5.000   172343       2004  2004   \n",
       "...          ...      ...     ...      ...        ...   ...   \n",
       "1287012   611692    17379   3.000     4956       1980  1980   \n",
       "1287013   659882    17379   4.000     4956       1980  1980   \n",
       "1287014   668042    17379   3.000     4956       1980  1980   \n",
       "1287015   798142    17379   3.000     4956       1980  1980   \n",
       "1287016   923149    17379   4.000     4956       1980  1980   \n",
       "\n",
       "                            title  \\\n",
       "0        Chris Rock: Never Scared   \n",
       "1        Chris Rock: Never Scared   \n",
       "2        Chris Rock: Never Scared   \n",
       "3        Chris Rock: Never Scared   \n",
       "4        Chris Rock: Never Scared   \n",
       "...                           ...   \n",
       "1287012             The Stunt Man   \n",
       "1287013             The Stunt Man   \n",
       "1287014             The Stunt Man   \n",
       "1287015             The Stunt Man   \n",
       "1287016             The Stunt Man   \n",
       "\n",
       "                                                  genre  \n",
       "0                                                Comedy  \n",
       "1                                                Comedy  \n",
       "2                                                Comedy  \n",
       "3                                                Comedy  \n",
       "4                                                Comedy  \n",
       "...                                                 ...  \n",
       "1287012  Action|Adventure|Comedy|Drama|Romance|Thriller  \n",
       "1287013  Action|Adventure|Comedy|Drama|Romance|Thriller  \n",
       "1287014  Action|Adventure|Comedy|Drama|Romance|Thriller  \n",
       "1287015  Action|Adventure|Comedy|Drama|Romance|Thriller  \n",
       "1287016  Action|Adventure|Comedy|Drama|Romance|Thriller  \n",
       "\n",
       "[1287017 rows x 8 columns]"
      ]
     },
     "execution_count": 12,
     "metadata": {},
     "output_type": "execute_result"
    }
   ],
   "source": [
    "# display(df_train)\n",
    "((df_train.merge(df_titles, on='movieID')))"
   ]
  },
  {
   "cell_type": "markdown",
   "id": "bcbe990f",
   "metadata": {},
   "source": [
    "## Now let's look at the API documents for the 'baseline' only model in surprise: https://surprise.readthedocs.io/en/stable/prediction_algorithms.html#baseline-estimates-configuration\n",
    "\n",
    "## Or after some digging, even more informative -- https://github.com/NicolasHug/Surprise/blob/master/doc/source/prediction_algorithms.rst"
   ]
  },
  {
   "cell_type": "markdown",
   "id": "83776712",
   "metadata": {},
   "source": [
    "## Note that while my attempt to tune the BaselineOnly method did not result in any noticeable performance improvements based on RMSE, that is not entirely surprising based on how this algorithm works. My goal was to show you how to tune the parameters using two different methods, so that you could more easily test and tune other algorithms from surprise."
   ]
  },
  {
   "cell_type": "code",
   "execution_count": 14,
   "id": "4519809d",
   "metadata": {
    "ExecuteTime": {
     "end_time": "2022-10-03T07:05:47.377076Z",
     "start_time": "2022-10-03T07:05:47.374427Z"
    }
   },
   "outputs": [
    {
     "name": "stdout",
     "output_type": "stream",
     "text": [
      "467.6953125\n"
     ]
    }
   ],
   "source": [
    "# Print the memory usage of this process. Requires you to set n_jobs=1 and ``pip install psutil''\n",
    "# Use this to debug any memory issues you might be having.\n",
    "process = psutil.Process(os.getpid())\n",
    "print(process.memory_info().rss/(1024*1024))  # in MB"
   ]
  },
  {
   "cell_type": "code",
   "execution_count": 15,
   "id": "c16ec1a0",
   "metadata": {},
   "outputs": [],
   "source": [
    "# converting predictions maade by models to df and appending an error column 'err' to the df\n",
    "def predictions_to_df(p):\n",
    "  df = pd.DataFrame(p, columns=['uid', 'iid', 'rui', 'est', 'details'])\n",
    "# taking difference of estimated and predicted value to calculate error \n",
    "  df['err'] = abs(df['rui'] - df['est'])\n",
    "  return df"
   ]
  },
  {
   "cell_type": "markdown",
   "id": "287ea550",
   "metadata": {},
   "source": [
    "# Algorithm 1: SVD"
   ]
  },
  {
   "cell_type": "code",
   "execution_count": 16,
   "id": "bb7c2d46",
   "metadata": {},
   "outputs": [
    {
     "name": "stdout",
     "output_type": "stream",
     "text": [
      "RMSE for SVD = 0.834\n"
     ]
    }
   ],
   "source": [
    "# Best parameters for SVD are {'n_epochs': 35, 'biased': 'False', 'n_factors': 50, 'reg_all': 0.055, 'lr_all': 0.007, 'init_std_dev': 0.03, 'init_mean': 0.125}\n",
    "# calling svd along with its appropriate optimised parameters which I found out in seperate file through RandomisedSearchCV\n",
    "svd_tuned = SVD(n_factors = 225, n_epochs = 110, biased = False, init_std_dev = 0.2, lr_all = 0.005, reg_all = 0.055, init_mean = 0.25) #Best parameters for SVD are n_epochs = 40, reg_all = 0.06, lr_all = 0.07\n",
    "# fitting traindata into above called algorithm\n",
    "fitted_svd = svd_tuned.fit(trainset)\n",
    "# making prediction with fitted model\n",
    "predictions_svd = fitted_svd.test(valset)\n",
    "print('RMSE for SVD = {}'.format(round(accuracy.rmse(predictions_svd,verbose=False),3)))"
   ]
  },
  {
   "cell_type": "markdown",
   "id": "ed8dba46",
   "metadata": {},
   "source": [
    "# Algorithm 2: KNNBasic"
   ]
  },
  {
   "cell_type": "code",
   "execution_count": 17,
   "id": "9e8436c3",
   "metadata": {},
   "outputs": [
    {
     "name": "stdout",
     "output_type": "stream",
     "text": [
      "Estimating biases using als...\n",
      "Computing the pearson_baseline similarity matrix...\n",
      "Done computing similarity matrix.\n",
      "RMSE for KNN Basic = 0.888\n"
     ]
    }
   ],
   "source": [
    "# Best Score from Grid Search is  0.8566224546930907\n",
    "# Best parameters for sim options are {'sim_options': {'name': 'pearson_baseline', 'user_based': False, 'shrinkage': 120}}\n",
    "# calling KNN Basic along with its appropriate optimised parameters which I found out in seperate file through RandomisedSearchCV\n",
    "sim_options = {'name': 'pearson_baseline', 'user_based': False, 'shrinkage': 150, 'min_support': 2}\n",
    "knn_basic = KNNBasic(sim_options = sim_options, min_k = 1, k = 40)\n",
    "# fitting traindata into above called algorithm\n",
    "fitted_knn_basic = knn_basic.fit(trainset)\n",
    "# making prediction with fitted model\n",
    "predictions_with_knn_basic = fitted_knn_basic.test(valset)\n",
    "print('RMSE for KNN Basic = {}'.format(round(accuracy.rmse(predictions_with_knn_basic,verbose=False),3)))"
   ]
  },
  {
   "cell_type": "markdown",
   "id": "ad677f88",
   "metadata": {},
   "source": [
    "# Algorithm 3: CoClustering"
   ]
  },
  {
   "cell_type": "code",
   "execution_count": 18,
   "id": "ebf5a117",
   "metadata": {},
   "outputs": [
    {
     "name": "stdout",
     "output_type": "stream",
     "text": [
      "RMSE for Co-Clustering = 0.878\n"
     ]
    }
   ],
   "source": [
    "# Best Score from Grid Search is  0.8849491697508329\n",
    "# Best parameters for SVD are {'n_epochs': 30, 'n_cltr_u': 7, n_cltr_i: 9}\n",
    "# calling Co Clustering along with its appropriate optimised parameters which I found out in seperate file through RandomisedSearchCV\n",
    "coClustering = CoClustering(n_epochs=35, n_cltr_u = 7, n_cltr_i = 9 )\n",
    "# fitting traindata into above called algorithm\n",
    "fitted_coClustering = coClustering.fit(trainset)\n",
    "# making prediction with fitted model\n",
    "predictions_with_coClustering = fitted_coClustering.test(valset)\n",
    "print('RMSE for Co-Clustering = {}'.format(round(accuracy.rmse(predictions_with_coClustering,verbose=False),3)))"
   ]
  },
  {
   "cell_type": "markdown",
   "id": "2eb71d15",
   "metadata": {},
   "source": [
    "# Algorithm 4: SlopeOne"
   ]
  },
  {
   "cell_type": "code",
   "execution_count": 19,
   "id": "a7af564e",
   "metadata": {},
   "outputs": [
    {
     "name": "stdout",
     "output_type": "stream",
     "text": [
      "RMSE for Slope One = 0.895\n"
     ]
    }
   ],
   "source": [
    "# calling slope one\n",
    "slope_one = SlopeOne()\n",
    "# fitting traindata into above called algorithm\n",
    "fitted_slope_one = slope_one.fit(trainset)\n",
    "predictions_with_slope_one = fitted_slope_one.test(valset)\n",
    "# making prediction with fitted model\n",
    "# Without Tuning: RMSE = 0.895\n",
    "print('RMSE for Slope One = {}'.format(round(accuracy.rmse(predictions_with_slope_one,verbose=False),3)))"
   ]
  },
  {
   "cell_type": "markdown",
   "id": "28d51f12",
   "metadata": {},
   "source": [
    "# Evaluation"
   ]
  },
  {
   "cell_type": "code",
   "execution_count": 20,
   "id": "b4789e20",
   "metadata": {},
   "outputs": [],
   "source": [
    "# this function runs fitted algorithm which is algorithm 'algo' in parameter and then calculated hit rate and appends to scores dictionary\n",
    "def showMetrics(algo, trainset, valset, all_antisets):\n",
    "    algo_on_all_antiset = algo_on_all_antisets(algo,trainset,valset,\n",
    "                                                  all_antisets,\n",
    "                                                  progress=True, k=10)\n",
    "    topNall = algo_on_all_antiset[0]\n",
    "    scores_dict = algo_on_all_antiset[5]\n",
    "    hr = HitRate(topNall,ref)\n",
    "    scores_dict['HitRate'] = round(hr,3)\n",
    "    return scores_dict\n",
    "#     print('HitRate for {} is {}'.format(algo, hr))\n"
   ]
  },
  {
   "cell_type": "code",
   "execution_count": 21,
   "id": "4d9308a8",
   "metadata": {},
   "outputs": [],
   "source": [
    "# calculating hit rate \n",
    "def HitRate(topNPredicted, refSet):\n",
    "  hits = 0\n",
    "  total = 0\n",
    "  print('Computing Hitrate') \n",
    "  for k,v in topNPredicted.items():\n",
    "    ref = refSet[k]\n",
    "    total += len(v.index)\n",
    "    all_df = pd.merge(v,ref, on=['userID','movieID'])\n",
    "    hits += len(all_df.index)\n",
    "  return float(hits)/float(total)"
   ]
  },
  {
   "cell_type": "code",
   "execution_count": 22,
   "id": "fe7504f9",
   "metadata": {
    "scrolled": true
   },
   "outputs": [
    {
     "name": "stdout",
     "output_type": "stream",
     "text": [
      "Scoring all user antisets and testset.\n"
     ]
    },
    {
     "name": "stderr",
     "output_type": "stream",
     "text": [
      "100%|██████████| 5000/5000 [04:03<00:00, 20.56it/s]\n"
     ]
    },
    {
     "name": "stdout",
     "output_type": "stream",
     "text": [
      "Computing Hitrate\n",
      "Scores for SVD:  {'RMSE': 0.834, 'MAE': 0.655, 'HitRate': 0.079}\n"
     ]
    }
   ],
   "source": [
    "# calculating each metric for tuned SVD in parameter \n",
    "scores_svd = showMetrics(svd_tuned, trainset, valset, all_antisets)\n",
    "print('Scores for SVD: ', scores_svd)\n",
    "# Output: {'RMSE': 0.834, 'MAE': 0.655, 'HitRate': 0.08}"
   ]
  },
  {
   "cell_type": "code",
   "execution_count": 23,
   "id": "f3af6d37",
   "metadata": {},
   "outputs": [
    {
     "name": "stdout",
     "output_type": "stream",
     "text": [
      "Scoring all user antisets and testset.\n",
      "Estimating biases using als...\n",
      "Computing the pearson_baseline similarity matrix...\n",
      "Done computing similarity matrix.\n"
     ]
    },
    {
     "name": "stderr",
     "output_type": "stream",
     "text": [
      "100%|██████████| 5000/5000 [45:20<00:00,  1.84it/s]  \n"
     ]
    },
    {
     "name": "stdout",
     "output_type": "stream",
     "text": [
      "Computing Hitrate\n",
      "Scores for KNN Basic:  {'RMSE': 0.888, 'MAE': 0.696, 'HitRate': 0.068}\n"
     ]
    }
   ],
   "source": [
    "# calculating each metric for tuned KNN Basic in parameter \n",
    "scores_knn_basic = showMetrics(knn_basic, trainset, valset, all_antisets)\n",
    "print('Scores for KNN Basic: ', scores_knn_basic)\n",
    "# Output: {'RMSE': 0.888, 'MAE': 0.696, 'HitRate': 0.068}"
   ]
  },
  {
   "cell_type": "code",
   "execution_count": 24,
   "id": "f15dec5f",
   "metadata": {},
   "outputs": [
    {
     "name": "stdout",
     "output_type": "stream",
     "text": [
      "Scoring all user antisets and testset.\n"
     ]
    },
    {
     "name": "stderr",
     "output_type": "stream",
     "text": [
      "100%|██████████| 5000/5000 [03:49<00:00, 21.83it/s]\n"
     ]
    },
    {
     "name": "stdout",
     "output_type": "stream",
     "text": [
      "Computing Hitrate\n",
      "Scores for Co-Clustering:  {'RMSE': 0.879, 'MAE': 0.688, 'HitRate': 0.041}\n"
     ]
    }
   ],
   "source": [
    "# calculating each metric for tuned Co Clustering in parameter \n",
    "scores_co_clustering = showMetrics(coClustering, trainset, valset, all_antisets)\n",
    "print('Scores for Co-Clustering: ', scores_co_clustering)"
   ]
  },
  {
   "cell_type": "code",
   "execution_count": 25,
   "id": "53c50a74",
   "metadata": {},
   "outputs": [
    {
     "name": "stdout",
     "output_type": "stream",
     "text": [
      "Scoring all user antisets and testset.\n"
     ]
    },
    {
     "name": "stderr",
     "output_type": "stream",
     "text": [
      "100%|██████████| 5000/5000 [30:30<00:00,  2.73it/s]  \n"
     ]
    },
    {
     "name": "stdout",
     "output_type": "stream",
     "text": [
      "Computing Hitrate\n",
      "Scores for Slope One:  {'RMSE': 0.895, 'MAE': 0.703, 'HitRate': 0.016}\n"
     ]
    }
   ],
   "source": [
    "# calculating each metric for tuned Slope One in parameter \n",
    "scores_slope_one = showMetrics(slope_one, trainset, valset, all_antisets)\n",
    "print('Scores for Slope One: ', scores_slope_one)"
   ]
  },
  {
   "cell_type": "code",
   "execution_count": 26,
   "id": "8460e9e9",
   "metadata": {},
   "outputs": [
    {
     "data": {
      "text/html": [
       "<div>\n",
       "<style scoped>\n",
       "    .dataframe tbody tr th:only-of-type {\n",
       "        vertical-align: middle;\n",
       "    }\n",
       "\n",
       "    .dataframe tbody tr th {\n",
       "        vertical-align: top;\n",
       "    }\n",
       "\n",
       "    .dataframe thead th {\n",
       "        text-align: right;\n",
       "    }\n",
       "</style>\n",
       "<table border=\"1\" class=\"dataframe\">\n",
       "  <thead>\n",
       "    <tr style=\"text-align: right;\">\n",
       "      <th></th>\n",
       "      <th>RMSE</th>\n",
       "      <th>MAE</th>\n",
       "      <th>HitRate</th>\n",
       "    </tr>\n",
       "  </thead>\n",
       "  <tbody>\n",
       "    <tr>\n",
       "      <th>SVD</th>\n",
       "      <td>0.834</td>\n",
       "      <td>0.655</td>\n",
       "      <td>0.079</td>\n",
       "    </tr>\n",
       "    <tr>\n",
       "      <th>Co-Clustering</th>\n",
       "      <td>0.879</td>\n",
       "      <td>0.688</td>\n",
       "      <td>0.041</td>\n",
       "    </tr>\n",
       "    <tr>\n",
       "      <th>KNNBasic</th>\n",
       "      <td>0.888</td>\n",
       "      <td>0.696</td>\n",
       "      <td>0.068</td>\n",
       "    </tr>\n",
       "    <tr>\n",
       "      <th>SlopeOne</th>\n",
       "      <td>0.895</td>\n",
       "      <td>0.703</td>\n",
       "      <td>0.016</td>\n",
       "    </tr>\n",
       "  </tbody>\n",
       "</table>\n",
       "</div>"
      ],
      "text/plain": [
       "               RMSE   MAE  HitRate\n",
       "SVD           0.834 0.655    0.079\n",
       "Co-Clustering 0.879 0.688    0.041\n",
       "KNNBasic      0.888 0.696    0.068\n",
       "SlopeOne      0.895 0.703    0.016"
      ]
     },
     "execution_count": 26,
     "metadata": {},
     "output_type": "execute_result"
    }
   ],
   "source": [
    "# converting scores for all the algorithms into a df\n",
    "overall_scores = pd.DataFrame.from_dict([scores_svd, scores_knn_basic, scores_co_clustering, scores_slope_one])\n",
    "s = pd.Series(['SVD', 'KNNBasic', 'Co-Clustering', 'SlopeOne'])\n",
    "overall_scores = overall_scores.set_index([s])\n",
    "overall_scores.sort_values(by=['RMSE'])"
   ]
  },
  {
   "cell_type": "code",
   "execution_count": 28,
   "id": "27a72981",
   "metadata": {},
   "outputs": [
    {
     "data": {
      "image/png": "[encoded data removed]",
      "text/plain": [
       "<Figure size 640x480 with 1 Axes>"
      ]
     },
     "metadata": {},
     "output_type": "display_data"
    }
   ],
   "source": [
    "# Doing an error analysis with help of box plot for each algorithm\n",
    "plt.grid(visible=True, which='major', axis='both')\n",
    "results = [predictions_to_df(predictions_svd)['err'], predictions_to_df(predictions_with_knn_basic)['err'], predictions_to_df(predictions_with_coClustering)['err'], predictions_to_df(predictions_with_slope_one)['err']]\n",
    "names = ['SVD', 'KNNBasic', 'Co-Clustering', 'SlopeOne']\n",
    "plt.boxplot(results, labels=names, showmeans=True)\n",
    "plt.show()"
   ]
  },
  {
   "cell_type": "code",
   "execution_count": 29,
   "id": "ffce0568",
   "metadata": {},
   "outputs": [
    {
     "data": {
      "image/png": "[encoded data removed]",
      "text/plain": [
       "<Figure size 640x480 with 1 Axes>"
      ]
     },
     "metadata": {},
     "output_type": "display_data"
    }
   ],
   "source": [
    "# plotting a graph for RMSE for all the algoeithms\n",
    "# all_rmse = {\"SVD\": scores_svd['RMSE'], 'KNN Basic' : scores_knn_basic['RMSE'], 'Co-Clustering': scores_co_clustering['RMSE'], 'SlopeOne': scores_slope_one['RMSE']}\n",
    "g = sns.lineplot(data = overall_scores['RMSE'], sort = True).set(title='RMSE for all algorithms')"
   ]
  },
  {
   "cell_type": "code",
   "execution_count": 31,
   "id": "657d6310",
   "metadata": {},
   "outputs": [
    {
     "data": {
      "image/png": "[encoded data removed]",
      "text/plain": [
       "<Figure size 640x480 with 1 Axes>"
      ]
     },
     "metadata": {},
     "output_type": "display_data"
    }
   ],
   "source": [
    "# # all_rmse = {\"SVD\": scores_svd['RMSE'], 'KNN Basic' : scores_knn_basic['RMSE'], 'Co-Clustering': scores_co_clustering['RMSE'], 'SlopeOne': scores_slope_one['RMSE']}\n",
    "# g = sns.barplot(data = f).set(title='RMSE for all algorithms')\n",
    "# comparing RMSE and Hit Rate for each algorithm with help of a bar graph\n",
    "labels = ['SVD', 'KNN Basic', 'Co-Clutsering', 'SlopeOne']\n",
    "fig, ax = plt.subplots()\n",
    "x = np.arange(len(labels))\n",
    "width = 0.35\n",
    "rects1 = ax.bar(labels, [0.834, 0.888, 0.878, 0.895], width=0.35, label='RMSE')\n",
    "rects2 = ax.bar(labels, [0.079, 0.068, 0.044, 0.016], width=0.35,label='HitRate')\n",
    "fig.tight_layout()\n",
    "ax.legend()\n",
    "# setting legends and labels\n",
    "plt.legend(loc='right')\n",
    "plt.title('Comparison of RMSE and Hit Rate for all the algorithms')\n",
    "plt.xlabel('Algorithms')\n",
    "plt.ylabel('Value of Metrics')\n",
    "ax.bar_label(rects1, padding=3)\n",
    "ax.bar_label(rects2, padding=3)\n",
    "plt.show()"
   ]
  },
  {
   "cell_type": "code",
   "execution_count": 32,
   "id": "7227ef9d",
   "metadata": {},
   "outputs": [
    {
     "data": {
      "image/png": "[encoded data removed]",
      "text/plain": [
       "<Figure size 640x480 with 1 Axes>"
      ]
     },
     "metadata": {},
     "output_type": "display_data"
    }
   ],
   "source": [
    "# legend = ['SVD', 'KNN Basic', 'Co-Clutsering', 'SlopeOne']\n",
    "# comparing all the metrics for all the algorithms.  \n",
    "g1 = sns.lineplot(data=overall_scores).set(title='Metrics for All Algorithms')\n",
    "# g = g.set(xlim=(5,15))\n",
    "# g.set(title = 'RMSE for top-N predictions for all algorithms')\n",
    "plt.show(g1)"
   ]
  }
 ],
 "metadata": {
  "kernelspec": {
   "display_name": "Python 3 (ipykernel)",
   "language": "python",
   "name": "python3"
  },
  "language_info": {
   "codemirror_mode": {
    "name": "ipython",
    "version": 3
   },
   "file_extension": ".py",
   "mimetype": "text/x-python",
   "name": "python",
   "nbconvert_exporter": "python",
   "pygments_lexer": "ipython3",
   "version": "3.8.13"
  }
 },
 "nbformat": 4,
 "nbformat_minor": 5
}
