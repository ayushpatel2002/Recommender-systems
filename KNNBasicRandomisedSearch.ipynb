{
 "cells": [
  {
   "cell_type": "code",
   "execution_count": 6,
   "id": "451d0c12",
   "metadata": {},
   "outputs": [],
   "source": [
    "import numpy as np\n",
    "import pyarrow.feather as feather\n",
    "import pandas as pd\n",
    "from surprise.model_selection import train_test_split, GridSearchCV, RandomizedSearchCV\n",
    "from joblib import parallel_backend\n",
    "from surprise import KNNBasic\n",
    "from sklearn.metrics import mean_squared_error\n",
    "from surprise import Dataset, Reader, BaselineOnly, accuracy"
   ]
  },
  {
   "cell_type": "code",
   "execution_count": 2,
   "id": "7f5ce13a",
   "metadata": {},
   "outputs": [],
   "source": [
    "df_train = feather.read_feather('netflix-5k.train.feather')\n",
    "df_val = feather.read_feather('netflix-5k.validation.feather')\n",
    "df_titles = feather.read_feather('netflix-5k.movie_titles.feather')"
   ]
  },
  {
   "cell_type": "code",
   "execution_count": 3,
   "id": "5c00b913",
   "metadata": {},
   "outputs": [],
   "source": [
    "reader = Reader(rating_scale=(0, 5))\n",
    "data = Dataset.load_from_df(df_train[['userID','movieID',\n",
    "                                      'rating']],reader)\n",
    "datav = Dataset.load_from_df(df_val[['userID','movieID',\n",
    "                                       'rating']],reader)\n",
    "trainset = data.build_full_trainset()\n",
    "NA,valset = train_test_split(datav, test_size=1.0)"
   ]
  },
  {
   "cell_type": "code",
   "execution_count": 4,
   "id": "2c5c539d",
   "metadata": {},
   "outputs": [
    {
     "name": "stderr",
     "output_type": "stream",
     "text": [
      "[Parallel(n_jobs=6)]: Using backend MultiprocessingBackend with 6 concurrent workers.\n",
      "[Parallel(n_jobs=6)]: Done   1 tasks      | elapsed: 10.2min\n",
      "[Parallel(n_jobs=6)]: Done   6 tasks      | elapsed: 22.6min\n",
      "[Parallel(n_jobs=6)]: Done  13 tasks      | elapsed: 41.3min\n",
      "[Parallel(n_jobs=6)]: Done  20 tasks      | elapsed: 48.3min\n",
      "[Parallel(n_jobs=6)]: Done  29 tasks      | elapsed: 68.9min\n",
      "[Parallel(n_jobs=6)]: Done  34 out of  40 | elapsed: 79.0min remaining: 13.9min\n"
     ]
    },
    {
     "name": "stdout",
     "output_type": "stream",
     "text": [
      "Computing the pearson similarity matrix...\n",
      "Done computing similarity matrix.\n",
      "Computing the pearson similarity matrix...\n",
      "Done computing similarity matrix.\n",
      "Estimating biases using als...\n",
      "Computing the pearson_baseline similarity matrix...\n",
      "Done computing similarity matrix.\n",
      "Estimating biases using als...\n",
      "Computing the pearson_baseline similarity matrix...\n",
      "Done computing similarity matrix.\n",
      "Estimating biases using als...\n",
      "Computing the pearson_baseline similarity matrix...\n",
      "Done computing similarity matrix.\n",
      "Estimating biases using als...\n",
      "Computing the pearson_baseline similarity matrix...\n",
      "Done computing similarity matrix.\n",
      "Estimating biases using als...\n",
      "Computing the pearson_baseline similarity matrix...\n",
      "Done computing similarity matrix.\n",
      "Computing the cosine similarity matrix...\n",
      "Done computing similarity matrix.\n",
      "Computing the cosine similarity matrix...\n",
      "Done computing similarity matrix.\n",
      "Computing the cosine similarity matrix...\n",
      "Done computing similarity matrix.\n",
      "Computing the pearson similarity matrix...\n",
      "Done computing similarity matrix.\n",
      "Computing the pearson similarity matrix...\n",
      "Done computing similarity matrix.\n",
      "Computing the pearson similarity matrix...\n",
      "Done computing similarity matrix.\n",
      "Computing the cosine similarity matrix...\n",
      "Done computing similarity matrix.\n",
      "Computing the pearson similarity matrix...\n",
      "Done computing similarity matrix.\n",
      "Computing the pearson similarity matrix...\n",
      "Done computing similarity matrix.\n",
      "Computing the pearson similarity matrix...\n",
      "Done computing similarity matrix.\n",
      "Computing the pearson similarity matrix...\n",
      "Done computing similarity matrix.\n",
      "Computing the cosine similarity matrix...\n",
      "Done computing similarity matrix.\n",
      "Computing the pearson similarity matrix...\n",
      "Done computing similarity matrix.\n",
      "Computing the cosine similarity matrix...\n",
      "Done computing similarity matrix.\n",
      "Computing the pearson similarity matrix...\n",
      "Done computing similarity matrix.\n",
      "Computing the pearson similarity matrix...\n",
      "Done computing similarity matrix.\n",
      "Computing the pearson similarity matrix...\n",
      "Done computing similarity matrix.\n",
      "Computing the pearson similarity matrix...\n",
      "Done computing similarity matrix.\n",
      "Computing the pearson similarity matrix...\n",
      "Done computing similarity matrix.\n",
      "Computing the pearson similarity matrix...\n",
      "Done computing similarity matrix.\n",
      "Computing the cosine similarity matrix...\n",
      "Done computing similarity matrix.\n",
      "Computing the pearson similarity matrix...\n",
      "Done computing similarity matrix.\n",
      "Computing the pearson similarity matrix...\n",
      "Done computing similarity matrix.\n",
      "Computing the pearson similarity matrix...\n",
      "Done computing similarity matrix.\n",
      "Computing the cosine similarity matrix...\n",
      "Done computing similarity matrix.\n",
      "Computing the pearson similarity matrix...\n",
      "Done computing similarity matrix.\n",
      "Computing the pearson similarity matrix...\n",
      "Done computing similarity matrix.\n",
      "Best Score from Grid Search is  0.9008883835678553\n",
      "Best parameters for sim options for KNN Basic are {'sim_options': {'name': 'pearson_baseline', 'user_based': False, 'shrinkage': 150, 'min_support': 2}, 'min_k': 1, 'k': 40}\n"
     ]
    },
    {
     "name": "stderr",
     "output_type": "stream",
     "text": [
      "[Parallel(n_jobs=6)]: Done  40 out of  40 | elapsed: 84.6min finished\n"
     ]
    }
   ],
   "source": [
    "param_grid =  {'sim_options' : {'name': ['msd','pearson', 'pearson_baseline', 'cosine'],\n",
    "                                'user_based': [False, True],\n",
    "                                'shrinkage': [50, 75, 100, 125, 150],\n",
    "                                'min_support': [2, 4, 6, 8, 10]\n",
    "                               },\n",
    "                'min_k': [1, 3, 5, 7, 9],\n",
    "                'k': [5, 10, 30, 40, 50]\n",
    "               }\n",
    "\n",
    "with parallel_backend('multiprocessing', n_jobs=6):\n",
    "    sim_options = RandomizedSearchCV(KNNBasic, param_grid, measures=['rmse'], cv=5, n_iter=8, \n",
    "                            n_jobs=6, joblib_verbose=10)\n",
    "    sim_options.fit(data)\n",
    "\n",
    "print(\"Best Score from Grid Search is \", sim_options.best_score['rmse'])\n",
    "print(\"Best parameters for sim options for KNN Basic are\", sim_options.best_params['rmse'])"
   ]
  }
 ],
 "metadata": {
  "kernelspec": {
   "display_name": "Python 3 (ipykernel)",
   "language": "python",
   "name": "python3"
  },
  "language_info": {
   "codemirror_mode": {
    "name": "ipython",
    "version": 3
   },
   "file_extension": ".py",
   "mimetype": "text/x-python",
   "name": "python",
   "nbconvert_exporter": "python",
   "pygments_lexer": "ipython3",
   "version": "3.8.13"
  }
 },
 "nbformat": 4,
 "nbformat_minor": 5
}
