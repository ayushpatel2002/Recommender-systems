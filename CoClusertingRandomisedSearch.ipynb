{
 "cells": [
  {
   "cell_type": "code",
   "execution_count": 3,
   "id": "ffbc859f",
   "metadata": {},
   "outputs": [],
   "source": [
    "import numpy as np\n",
    "import pyarrow.feather as feather\n",
    "import pandas as pd\n",
    "from surprise.model_selection import train_test_split, GridSearchCV, RandomizedSearchCV\n",
    "from joblib import parallel_backend\n",
    "from surprise import CoClustering\n",
    "from sklearn.metrics import mean_squared_error\n",
    "from surprise import Dataset, Reader, BaselineOnly, accuracy"
   ]
  },
  {
   "cell_type": "code",
   "execution_count": 2,
   "id": "1ad14a5c",
   "metadata": {},
   "outputs": [],
   "source": [
    "df_train = feather.read_feather('netflix-5k.train.feather')\n",
    "df_val = feather.read_feather('netflix-5k.validation.feather')\n",
    "df_titles = feather.read_feather('netflix-5k.movie_titles.feather')"
   ]
  },
  {
   "cell_type": "code",
   "execution_count": 3,
   "id": "71052646",
   "metadata": {},
   "outputs": [],
   "source": [
    "reader = Reader(rating_scale=(0, 5))\n",
    "data = Dataset.load_from_df(df_train[['userID','movieID',\n",
    "                                      'rating']],reader)\n",
    "datav = Dataset.load_from_df(df_val[['userID','movieID',\n",
    "                                       'rating']],reader)\n",
    "trainset = data.build_full_trainset()\n",
    "NA,valset = train_test_split(datav, test_size=1.0)"
   ]
  },
  {
   "cell_type": "code",
   "execution_count": 4,
   "id": "de06efcd",
   "metadata": {},
   "outputs": [
    {
     "name": "stderr",
     "output_type": "stream",
     "text": [
      "[Parallel(n_jobs=-1)]: Using backend MultiprocessingBackend with 8 concurrent workers.\n",
      "[Parallel(n_jobs=-1)]: Done   2 tasks      | elapsed:   32.0s\n",
      "[Parallel(n_jobs=-1)]: Done   9 tasks      | elapsed:  1.2min\n",
      "[Parallel(n_jobs=-1)]: Done  16 tasks      | elapsed:  2.0min\n",
      "[Parallel(n_jobs=-1)]: Done  25 tasks      | elapsed:  2.6min\n",
      "[Parallel(n_jobs=-1)]: Done  30 out of  40 | elapsed:  3.5min remaining:  1.2min\n",
      "[Parallel(n_jobs=-1)]: Done  35 out of  40 | elapsed:  3.7min remaining:   31.6s\n",
      "[Parallel(n_jobs=-1)]: Done  40 out of  40 | elapsed:  3.8min remaining:    0.0s\n",
      "[Parallel(n_jobs=-1)]: Done  40 out of  40 | elapsed:  3.8min finished\n"
     ]
    },
    {
     "name": "stdout",
     "output_type": "stream",
     "text": [
      "Best Score from Grid Search is  0.8827998834399162\n",
      "Best parameters for CoCluserting are {'n_epochs': 35, 'n_cltr_u': 7, 'n_cltr_i': 9}\n"
     ]
    }
   ],
   "source": [
    "param_grid_svd = {'n_epochs': [10, 15, 20, 25, 30, 35], \n",
    "                  'n_cltr_u': [1, 3, 5, 7, 9],\n",
    "                  'n_cltr_i': [1, 3, 5, 7, 9]\n",
    "                  }\n",
    "\n",
    "with parallel_backend('multiprocessing', n_jobs=-1):\n",
    "    gs_coclustering = RandomizedSearchCV(CoClustering, param_grid_svd, measures=['rmse'], cv=5, n_iter=8, \n",
    "                            n_jobs=-1, joblib_verbose=10)\n",
    "    gs_coclustering.fit(data)\n",
    "\n",
    "print(\"Best Score from Grid Search is \", gs_coclustering.best_score['rmse'])\n",
    "print(\"Best parameters for CoCluserting are\", gs_coclustering.best_params['rmse'])"
   ]
  },
  {
   "cell_type": "code",
   "execution_count": 1,
   "id": "163126e9",
   "metadata": {},
   "outputs": [],
   "source": [
    "score = {'n_epochs': 35, 'n_cltr_u': 7, 'n_cltr_i': 9}"
   ]
  },
  {
   "cell_type": "code",
   "execution_count": 4,
   "id": "30736f2e",
   "metadata": {
    "scrolled": true
   },
   "outputs": [
    {
     "data": {
      "text/html": [
       "<div>\n",
       "<style scoped>\n",
       "    .dataframe tbody tr th:only-of-type {\n",
       "        vertical-align: middle;\n",
       "    }\n",
       "\n",
       "    .dataframe tbody tr th {\n",
       "        vertical-align: top;\n",
       "    }\n",
       "\n",
       "    .dataframe thead th {\n",
       "        text-align: right;\n",
       "    }\n",
       "</style>\n",
       "<table border=\"1\" class=\"dataframe\">\n",
       "  <thead>\n",
       "    <tr style=\"text-align: right;\">\n",
       "      <th></th>\n",
       "      <th>Parameters</th>\n",
       "      <th>Values</th>\n",
       "    </tr>\n",
       "  </thead>\n",
       "  <tbody>\n",
       "    <tr>\n",
       "      <th>0</th>\n",
       "      <td>n_epochs</td>\n",
       "      <td>35</td>\n",
       "    </tr>\n",
       "    <tr>\n",
       "      <th>1</th>\n",
       "      <td>n_cltr_u</td>\n",
       "      <td>7</td>\n",
       "    </tr>\n",
       "    <tr>\n",
       "      <th>2</th>\n",
       "      <td>n_cltr_i</td>\n",
       "      <td>9</td>\n",
       "    </tr>\n",
       "  </tbody>\n",
       "</table>\n",
       "</div>"
      ],
      "text/plain": [
       "  Parameters  Values\n",
       "0   n_epochs      35\n",
       "1   n_cltr_u       7\n",
       "2   n_cltr_i       9"
      ]
     },
     "execution_count": 4,
     "metadata": {},
     "output_type": "execute_result"
    }
   ],
   "source": [
    "dataset = pd.DataFrame({'Parameters': score.keys(), 'Values': score.values()})\n",
    "dataset"
   ]
  }
 ],
 "metadata": {
  "kernelspec": {
   "display_name": "Python 3 (ipykernel)",
   "language": "python",
   "name": "python3"
  },
  "language_info": {
   "codemirror_mode": {
    "name": "ipython",
    "version": 3
   },
   "file_extension": ".py",
   "mimetype": "text/x-python",
   "name": "python",
   "nbconvert_exporter": "python",
   "pygments_lexer": "ipython3",
   "version": "3.8.13"
  }
 },
 "nbformat": 4,
 "nbformat_minor": 5
}
