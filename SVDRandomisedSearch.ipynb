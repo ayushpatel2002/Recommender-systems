{
 "cells": [
  {
   "cell_type": "code",
   "execution_count": 3,
   "id": "60b6a25e",
   "metadata": {},
   "outputs": [],
   "source": [
    "import numpy as np\n",
    "import pyarrow.feather as feather\n",
    "import pandas as pd"
   ]
  },
  {
   "cell_type": "code",
   "execution_count": 26,
   "id": "e1ad53a0",
   "metadata": {},
   "outputs": [],
   "source": [
    "import pyarrow.feather as feather\n",
    "import pandas as pd\n",
    "from surprise.model_selection import train_test_split, GridSearchCV, RandomizedSearchCV\n",
    "from surprise import Dataset, Reader, BaselineOnly, accuracy\n",
    "from joblib import parallel_backend\n",
    "from surprise import SVD\n",
    "import dataframe_image as dfi"
   ]
  },
  {
   "cell_type": "code",
   "execution_count": 3,
   "id": "ff2cb13f",
   "metadata": {},
   "outputs": [],
   "source": [
    "df_train = feather.read_feather('netflix-5k.train.feather')\n",
    "df_val = feather.read_feather('netflix-5k.validation.feather')\n",
    "df_titles = feather.read_feather('netflix-5k.movie_titles.feather')\n",
    "reader = Reader(rating_scale=(0, 5))\n",
    "data = Dataset.load_from_df(df_train[['userID','movieID',\n",
    "                                      'rating']],reader)\n",
    "datav = Dataset.load_from_df(df_val[['userID','movieID',\n",
    "                                       'rating']],reader)\n",
    "trainset = data.build_full_trainset()\n",
    "NA,valset = train_test_split(datav, test_size=1.0)"
   ]
  },
  {
   "cell_type": "code",
   "execution_count": 4,
   "id": "3b4fc283",
   "metadata": {},
   "outputs": [
    {
     "name": "stderr",
     "output_type": "stream",
     "text": [
      "[Parallel(n_jobs=-1)]: Using backend MultiprocessingBackend with 8 concurrent workers.\n",
      "[Parallel(n_jobs=-1)]: Done   2 tasks      | elapsed:  1.1min\n",
      "[Parallel(n_jobs=-1)]: Done   9 tasks      | elapsed:  2.1min\n",
      "[Parallel(n_jobs=-1)]: Done  16 tasks      | elapsed:  3.2min\n",
      "[Parallel(n_jobs=-1)]: Done  25 tasks      | elapsed:  5.5min\n",
      "[Parallel(n_jobs=-1)]: Done  30 out of  40 | elapsed:  6.8min remaining:  2.3min\n",
      "[Parallel(n_jobs=-1)]: Done  35 out of  40 | elapsed:  7.2min remaining:  1.0min\n",
      "[Parallel(n_jobs=-1)]: Done  40 out of  40 | elapsed:  7.9min remaining:    0.0s\n",
      "[Parallel(n_jobs=-1)]: Done  40 out of  40 | elapsed:  7.9min finished\n"
     ]
    },
    {
     "name": "stdout",
     "output_type": "stream",
     "text": [
      "0.8446673153520337\n",
      "{'n_factors': 225, 'n_epochs': 110, 'biased': False, 'init_std_dev': 0.2, 'lr_all': 0.005, 'reg_all': 0.055, 'init_mean': 0.25}\n"
     ]
    }
   ],
   "source": [
    "param_grid = {'n_factors': [125,150,175,200,225],\n",
    "              'n_epochs':[40, 60, 80, 90, 110],\n",
    "              'biased': [True, False],\n",
    "              'init_std_dev': [0.2, 0.4, 0.6],\n",
    "              'lr_all': [0.005, 0.0025, 0.00125],\n",
    "              'reg_all': [0.04, 0.045, 0.05, 0.055],\n",
    "              'init_mean': [0.5, 0.25, 0.125]\n",
    "             }\n",
    "with parallel_backend('multiprocessing', n_jobs=-1):\n",
    "    gs = RandomizedSearchCV(SVD, param_grid, measures=['rmse'], cv=5, n_iter=8, \n",
    "                            n_jobs=-1, joblib_verbose=10)\n",
    "    gs.fit(data)\n",
    "    \n",
    "print(gs.best_score['rmse'])\n",
    "print(gs.best_params['rmse'])\n",
    "\n",
    "rmse_params = gs.best_params['rmse']"
   ]
  },
  {
   "cell_type": "code",
   "execution_count": 5,
   "id": "1213dad3",
   "metadata": {},
   "outputs": [],
   "source": [
    "score  = {'n_factors': 225, 'n_epochs': 110, 'biased': False, 'init_std_dev': 0.2, 'lr_all': 0.005, 'reg_all': 0.055, 'init_mean': 0.25}"
   ]
  },
  {
   "cell_type": "code",
   "execution_count": 17,
   "id": "1cc7df36",
   "metadata": {},
   "outputs": [],
   "source": [
    "dataset = pd.DataFrame({'Parameters': score.keys(), 'Values': score.values()})\n"
   ]
  },
  {
   "cell_type": "code",
   "execution_count": 20,
   "id": "19085b5b",
   "metadata": {},
   "outputs": [
    {
     "data": {
      "text/html": [
       "<div>\n",
       "<style scoped>\n",
       "    .dataframe tbody tr th:only-of-type {\n",
       "        vertical-align: middle;\n",
       "    }\n",
       "\n",
       "    .dataframe tbody tr th {\n",
       "        vertical-align: top;\n",
       "    }\n",
       "\n",
       "    .dataframe thead th {\n",
       "        text-align: right;\n",
       "    }\n",
       "</style>\n",
       "<table border=\"1\" class=\"dataframe\">\n",
       "  <thead>\n",
       "    <tr style=\"text-align: right;\">\n",
       "      <th></th>\n",
       "      <th>Parameters</th>\n",
       "      <th>Values</th>\n",
       "    </tr>\n",
       "  </thead>\n",
       "  <tbody>\n",
       "    <tr>\n",
       "      <th>0</th>\n",
       "      <td>n_factors</td>\n",
       "      <td>225</td>\n",
       "    </tr>\n",
       "    <tr>\n",
       "      <th>1</th>\n",
       "      <td>n_epochs</td>\n",
       "      <td>110</td>\n",
       "    </tr>\n",
       "    <tr>\n",
       "      <th>2</th>\n",
       "      <td>biased</td>\n",
       "      <td>False</td>\n",
       "    </tr>\n",
       "    <tr>\n",
       "      <th>3</th>\n",
       "      <td>init_std_dev</td>\n",
       "      <td>0.2</td>\n",
       "    </tr>\n",
       "    <tr>\n",
       "      <th>4</th>\n",
       "      <td>lr_all</td>\n",
       "      <td>0.005</td>\n",
       "    </tr>\n",
       "    <tr>\n",
       "      <th>5</th>\n",
       "      <td>reg_all</td>\n",
       "      <td>0.055</td>\n",
       "    </tr>\n",
       "    <tr>\n",
       "      <th>6</th>\n",
       "      <td>init_mean</td>\n",
       "      <td>0.25</td>\n",
       "    </tr>\n",
       "  </tbody>\n",
       "</table>\n",
       "</div>"
      ],
      "text/plain": [
       "     Parameters Values\n",
       "0     n_factors    225\n",
       "1      n_epochs    110\n",
       "2        biased  False\n",
       "3  init_std_dev    0.2\n",
       "4        lr_all  0.005\n",
       "5       reg_all  0.055\n",
       "6     init_mean   0.25"
      ]
     },
     "execution_count": 20,
     "metadata": {},
     "output_type": "execute_result"
    }
   ],
   "source": [
    "dataset = dataset.reset_index(drop=True)\n",
    "dataset\n"
   ]
  }
 ],
 "metadata": {
  "kernelspec": {
   "display_name": "Python 3 (ipykernel)",
   "language": "python",
   "name": "python3"
  },
  "language_info": {
   "codemirror_mode": {
    "name": "ipython",
    "version": 3
   },
   "file_extension": ".py",
   "mimetype": "text/x-python",
   "name": "python",
   "nbconvert_exporter": "python",
   "pygments_lexer": "ipython3",
   "version": "3.8.13"
  }
 },
 "nbformat": 4,
 "nbformat_minor": 5
}
